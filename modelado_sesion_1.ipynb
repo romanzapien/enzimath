{
 "cells": [
  {
   "cell_type": "markdown",
   "id": "893a49af",
   "metadata": {},
   "source": [
    "# Enzymath\n",
    "## Programación, sistemas dinámicos y reacciones enzimáticas 👨🏽‍💻🧪✨"
   ]
  },
  {
   "cell_type": "markdown",
   "id": "cff20c59",
   "metadata": {},
   "source": [
    "### 1. Introducción\n",
    "\n",
    "`Julia` es un lenguaje de computo científico que combina la simpleza de Python (un lenguaje orientado a objetos) con la velocidad de C++ (un lenguaje compilado). \n",
    "A pesar de estar en desarrollo, cada vez más cientificos incorporan Julia en sus proyectos. \n",
    "En las sesiones de modelado usaremos Julia y algunos de sus paquetes más útiles para modelar sistemas dinámicos. \n",
    "En particular, aprovecharemos su habilidad para representar expresiones matemáticas y químicas de forma simbólica y computar resultados simbólica o numéricamente (por ejemplo, pasando de $y=mx+c$ a `y=mx+c` y viceversa).\n",
    "Si nunca has programado, no te preocupes, debajo aprenderemos cómo usar Julia (verás que fácil es pasar algo del pizarrón al código). \n",
    "Si estas familiarizado con Python, usar Julia te será fácil.\n",
    "\n",
    "El archivo que estas viendo es un formato llamado *Jupyter notebook* (libreta de notas), que permite combinar notas de texto `Markdown` con código (en este caso de `Julia`). Usa esa posibilidad para tomar tus propias notas de texto.\n",
    "\n",
    "Nuestro programa de este día incluye,\n",
    "\n",
    "1. Introducción.\n",
    "2. Conceptos básicos de Markdown, Julia y programación.\n",
    "3. Reacciones químicas, modelado, simulaciones y gráficas."
   ]
  },
  {
   "cell_type": "markdown",
   "id": "28db3e36",
   "metadata": {},
   "source": [
    "### 2. Conceptos básicos\n",
    "\n",
    "### 2.1 ¿Cómo usar Markdown y Julia?\n",
    "\n",
    "#### 2.1.1 Escribir texto en Markdown\n",
    "\n",
    "Esta es una celda.\n",
    "Una celda contiene texto o código (cuyo formato es indicado en la parte inferior derecha).\n",
    "\n",
    "En Markdown, se puede formatear el texto como: simple **negritas** *cursivas* ~~rallado~~ `código`\n",
    "\n",
    "##### Encabezados \n",
    "\n",
    "Listas\n",
    "- a\n",
    "- b\n",
    "- c\n",
    "\n",
    "Listas (enumeradas)\n",
    "1. a\n",
    "2. b\n",
    "3. c\n",
    "\n",
    "Tablas \n",
    "| X | V |\n",
    "|-- | -- |\n",
    "| X1 | V1 |\n",
    "| X2 | V2 |\n",
    "\n",
    "vínculos\n",
    "[click aquí para ir a Google.com](https://www.google.com)\n",
    "\n",
    "---\n",
    "linea horizontal\n",
    "\n",
    "emojis 🤓 🚀\n",
    "\n",
    "> citas"
   ]
  },
  {
   "cell_type": "markdown",
   "id": "a0e0365f",
   "metadata": {},
   "source": [
    "#### 2.1.2 Escribir ecuaciones matemáticas y reacciones químicas"
   ]
  },
  {
   "cell_type": "markdown",
   "id": "0dc032cc",
   "metadata": {},
   "source": [
    "Esta es una **ecuación** en linea con el texto $y = mx + b$ 😎"
   ]
  },
  {
   "cell_type": "markdown",
   "id": "d095e252",
   "metadata": {},
   "source": [
    "Esta es una ecuación separada del texto\n",
    "$$\n",
    "y = mx + b\n",
    "$$"
   ]
  },
  {
   "cell_type": "markdown",
   "id": "9ba5f169",
   "metadata": {},
   "source": [
    "Esta es una ecuación con número de referencia 🎩\n",
    "\\begin{equation}\n",
    "y = mx + b\n",
    "\\end{equation}"
   ]
  },
  {
   "cell_type": "markdown",
   "id": "f2224f4e",
   "metadata": {},
   "source": [
    "Debajo puedes ver alguna notación matemática util 📕\n",
    "\n",
    "Suma \n",
    "$$a+b$$\n",
    "\n",
    "Resta \n",
    "$$a-b$$\n",
    "\n",
    "División \n",
    "$$\\frac{a}{b}$$\n",
    "\n",
    "Exponentes (y superíndeces)\n",
    "$$a^b$$\n",
    "\n",
    "Subíndeces\n",
    "$$a_b$$\n",
    "\n",
    "Raices\n",
    "$$\\sqrt{a}$$\n",
    "\n",
    "Paréntesis\n",
    "$$(a+b)(-1)$$\n",
    "\n",
    "Sumatoria\n",
    "$$\\sum_a^b x$$\n",
    "\n",
    "Logaritmo\n",
    "$$\\log$$\n",
    "\n",
    "Letras griegas y latinas 🔱\n",
    "$$\\alpha, \\beta, \\gamma, ...$$"
   ]
  },
  {
   "cell_type": "markdown",
   "id": "939c2808",
   "metadata": {},
   "source": [
    "Usando esta notación podemos escribir ecuaciones tan complejas como la transformada de Fourier 🤯\n",
    "\n",
    "\\begin{equation}\n",
    "\\hat{f}(\\xi) = \\int_{-\\infty}^\\infty f(x) e^{-i 2 \\pi \\xi x} dx, \\forall x \\in \\R\n",
    "\\end{equation}\n",
    "\n",
    "Para más notación visita [ésta](https://oeis.org/wiki/List_of_LaTeX_mathematical_symbols) u otras páginas."
   ]
  },
  {
   "cell_type": "markdown",
   "id": "ae4aa6db",
   "metadata": {},
   "source": [
    "Una **reacción química** no es más que una ecuación matemática con notación específica simple 🤓,\n",
    "$$ A + B \\rightarrow C $$\n",
    "$$ A + B \\leftarrow C $$\n",
    "$$ A + B \\leftrightarrow C $$\n",
    "\n",
    "o compleja 😬\n",
    "\n",
    "$$ A + B \\xrightarrow[]{k_+} C $$\n",
    "$$ A + B \\xleftarrow[k_-]{} C $$\n",
    "$$ A + B \\xleftrightarrow[k_-]{k_+} C $$"
   ]
  },
  {
   "cell_type": "markdown",
   "id": "f6071018",
   "metadata": {},
   "source": [
    "#### 2.1.3 Escribir código en Julia"
   ]
  },
  {
   "cell_type": "code",
   "execution_count": null,
   "id": "cd593a87",
   "metadata": {},
   "outputs": [],
   "source": [
    "# Este es un comentario"
   ]
  },
  {
   "cell_type": "code",
   "execution_count": null,
   "id": "3fced322",
   "metadata": {},
   "outputs": [],
   "source": [
    "# Declarar una variable (sin imprimir)\n",
    "x = 2;"
   ]
  },
  {
   "cell_type": "code",
   "execution_count": null,
   "id": "960827c8",
   "metadata": {},
   "outputs": [],
   "source": [
    "# Declarar una variable (imprimiendo)\n",
    "x = 2"
   ]
  },
  {
   "cell_type": "code",
   "execution_count": null,
   "id": "2f5ea9d5",
   "metadata": {},
   "outputs": [],
   "source": [
    "# Imprimir el valor de una variable\n",
    "x"
   ]
  },
  {
   "cell_type": "code",
   "execution_count": null,
   "id": "7e8e0b84",
   "metadata": {},
   "outputs": [],
   "source": [
    "# Operación lógica (booleana)\n",
    "x > 2"
   ]
  },
  {
   "cell_type": "code",
   "execution_count": null,
   "id": "157fb72d",
   "metadata": {},
   "outputs": [],
   "source": [
    "# Operación matemática\n",
    "x^2 + x + 1"
   ]
  },
  {
   "cell_type": "code",
   "execution_count": null,
   "id": "b7828b43",
   "metadata": {},
   "outputs": [],
   "source": [
    "# Usar símbolos latinos o griegos\n",
    "δ = 1"
   ]
  },
  {
   "cell_type": "code",
   "execution_count": null,
   "id": "93938ccb",
   "metadata": {},
   "outputs": [],
   "source": [
    "# Usar emojis\n",
    "😃 = 3"
   ]
  },
  {
   "cell_type": "code",
   "execution_count": null,
   "id": "6c9cf7da",
   "metadata": {},
   "outputs": [],
   "source": [
    "# Operaciones matemáticas\n",
    "δ + 😃"
   ]
  },
  {
   "cell_type": "code",
   "execution_count": null,
   "id": "2a44093e",
   "metadata": {},
   "outputs": [],
   "source": [
    "# Texto\n",
    "✉️ = \"七転び八起き\""
   ]
  },
  {
   "cell_type": "code",
   "execution_count": null,
   "id": "5e277fd6",
   "metadata": {},
   "outputs": [],
   "source": [
    "# Imprimir el tipo de objeto\n",
    "typeof(✉️)"
   ]
  },
  {
   "cell_type": "code",
   "execution_count": null,
   "id": "bde60cc9",
   "metadata": {},
   "outputs": [],
   "source": [
    "typeof(x)"
   ]
  },
  {
   "cell_type": "code",
   "execution_count": null,
   "id": "00a7ef9a",
   "metadata": {},
   "outputs": [],
   "source": [
    "typeof(1.)"
   ]
  },
  {
   "cell_type": "code",
   "execution_count": null,
   "id": "b4f1c74b",
   "metadata": {},
   "outputs": [],
   "source": [
    "# Lista\n",
    "mi_lista = (x, ✉️)"
   ]
  },
  {
   "cell_type": "code",
   "execution_count": null,
   "id": "b2a563c6",
   "metadata": {},
   "outputs": [],
   "source": [
    "# Vector (arreglo)\n",
    "mi_vector = [x, x^2]"
   ]
  },
  {
   "cell_type": "code",
   "execution_count": null,
   "id": "099ed5bd",
   "metadata": {},
   "outputs": [],
   "source": [
    "# Indexar primer elemento\n",
    "mi_vector[1]"
   ]
  },
  {
   "cell_type": "code",
   "execution_count": null,
   "id": "e25f2cd6",
   "metadata": {},
   "outputs": [],
   "source": [
    "# Indexar último elemento\n",
    "mi_vector[end-1]"
   ]
  },
  {
   "cell_type": "code",
   "execution_count": null,
   "id": "f3be7a84",
   "metadata": {},
   "outputs": [],
   "source": [
    "# Arreglo multidimensional\n",
    "mi_arreglo_2d = [[1,2],[3,4]]"
   ]
  },
  {
   "cell_type": "code",
   "execution_count": null,
   "id": "3848e36f",
   "metadata": {},
   "outputs": [],
   "source": [
    "# Matriz\n",
    "mi_matriz = [\n",
    " 1 2 3;\n",
    " 4 5 6;\n",
    " 7 8 9; \n",
    "]"
   ]
  },
  {
   "cell_type": "code",
   "execution_count": null,
   "id": "626344d5",
   "metadata": {},
   "outputs": [],
   "source": [
    "# Indexar\n",
    "mi_matriz[:,1]"
   ]
  },
  {
   "cell_type": "code",
   "execution_count": null,
   "id": "8ed2e387",
   "metadata": {},
   "outputs": [],
   "source": [
    "# Series (rangos)\n",
    "2:1:10 # equivalente a range(2,10,1)"
   ]
  },
  {
   "cell_type": "code",
   "execution_count": null,
   "id": "620b2404",
   "metadata": {},
   "outputs": [],
   "source": [
    "# For loops\n",
    "for i in 1:10\n",
    "    println(i)\n",
    "end\n",
    "\n",
    "# Los while loop funcionan de forma similar"
   ]
  },
  {
   "cell_type": "code",
   "execution_count": null,
   "id": "9f6b2b74",
   "metadata": {},
   "outputs": [],
   "source": [
    "# Funciones\n",
    "function mi_funcion(x)\n",
    "    return x^2 + x + 1\n",
    "end\n",
    "\n",
    "mi_funcion(2)"
   ]
  },
  {
   "cell_type": "code",
   "execution_count": null,
   "id": "22b6bc9a",
   "metadata": {},
   "outputs": [],
   "source": [
    "# Condicionales\n",
    "if x <= 2\n",
    "    print(\"el valor de x es menor o igual a 2, es $(x)\")\n",
    "else\n",
    "    print(\"el valor de x no es menor a 2, es $(x)\")\n",
    "end"
   ]
  },
  {
   "cell_type": "code",
   "execution_count": null,
   "id": "6032234f",
   "metadata": {},
   "outputs": [],
   "source": [
    "# Comandos mágicos\n",
    "@time x+1; # Cuenta cuanto tiempo toma executar una linea de código."
   ]
  },
  {
   "cell_type": "code",
   "execution_count": null,
   "id": "229a4640",
   "metadata": {},
   "outputs": [],
   "source": [
    "# Ayuda\n",
    "@doc sin"
   ]
  },
  {
   "cell_type": "markdown",
   "id": "a2777329",
   "metadata": {},
   "source": [
    "Finalmente, mientras escribes un comando puedes presionar la tecla `TAB` (tabulador) para autocompletar la palabra. \n",
    "Esto es muy útil para escribir más rápido o cuando no recuerdas el comando completo.\n",
    "\n",
    "Puedes consultar [este tutorial](https://github.com/Datseris/Zero2Hero-JuliaWorkshop/blob/main/1-JuliaIntro.ipynb) para aprender más sobre Julia o la [documentación](https://docs.julialang.org/en/v1/) donde encontrarás todo sobre Julia."
   ]
  },
  {
   "cell_type": "markdown",
   "id": "69866da3",
   "metadata": {},
   "source": [
    "### 2.2 Estructura de un código de programación"
   ]
  },
  {
   "cell_type": "markdown",
   "id": "f907601a",
   "metadata": {},
   "source": [
    "Típicamente, un código de programación se organiza de la siguiente manera.\n",
    "\n",
    "1. Importar paquetes.\n",
    "2. Declarar funciones (de simples a complejas).\n",
    "3. Especificar parametros para las funciones.\n",
    "4. Generar resultados ejecutando las funciones.\n",
    "5. Analizar y graficar resultados.\n",
    "\n",
    "Esta estructura facilita la lectura de nuestro código para otros y nosotros mismos."
   ]
  },
  {
   "cell_type": "markdown",
   "id": "5e583655",
   "metadata": {},
   "source": [
    "Siguiendo esta convención, importemos los paquetes que necesitaremos en esta sesión."
   ]
  },
  {
   "cell_type": "code",
   "execution_count": null,
   "id": "beb78274",
   "metadata": {},
   "outputs": [],
   "source": [
    "# Importar paquetes de Julia\n",
    "using Catalyst                      # Para escribir reacciones químicas de forma simple.\n",
    "\n",
    "# using OrdinaryDiffEqDefault\n",
    "using DifferentialEquations         # Para usar métodos de Ecuaciones Diferenciales.\n",
    "# using OrdinaryDiffEq                # Para usar métodos de Ecuaciones Diferenciales Ordinarias.\n",
    "# using StochasticDiffEq\n",
    "using JumpProcesses                 # Para usar métodos de Ecuaciones Diferenciales Estocásticas.\n",
    "using DiffEqBase.EnsembleAnalysis   # Para generar Simulaciones Estocásticas.\n",
    "\n",
    "using Plots                         # Para graficar.\n",
    "using Latexify                      # Para imprimir ecuaciones en formato de LaTeX/Markdown."
   ]
  },
  {
   "cell_type": "markdown",
   "id": "b6213d11",
   "metadata": {},
   "source": [
    "### 3.1 Declarar una reacción química"
   ]
  },
  {
   "cell_type": "code",
   "execution_count": null,
   "id": "25f95ae3",
   "metadata": {},
   "outputs": [],
   "source": [
    "rn = @reaction_network begin\n",
    "    @parameters k\n",
    "    @species a(t) b(t)\n",
    "        k, a → b\n",
    "end"
   ]
  },
  {
   "cell_type": "code",
   "execution_count": null,
   "id": "18384cc2",
   "metadata": {},
   "outputs": [],
   "source": [
    "speciesmap(rn)"
   ]
  },
  {
   "cell_type": "code",
   "execution_count": null,
   "id": "682a7cf4",
   "metadata": {},
   "outputs": [],
   "source": [
    "paramsmap(rn)"
   ]
  },
  {
   "cell_type": "code",
   "execution_count": null,
   "id": "afb32633",
   "metadata": {},
   "outputs": [],
   "source": [
    "netstoichmat(rn)"
   ]
  },
  {
   "cell_type": "markdown",
   "id": "1832d942",
   "metadata": {},
   "source": [
    "### 3.3 Principio de acción de masas"
   ]
  },
  {
   "cell_type": "markdown",
   "id": "cf92cfe4",
   "metadata": {},
   "source": [
    "### 3.2 Reversibilidad de reacción"
   ]
  },
  {
   "cell_type": "markdown",
   "id": "7fb4d953",
   "metadata": {},
   "source": [
    "#### 3.2.1 Reacciones irreversibles "
   ]
  },
  {
   "cell_type": "code",
   "execution_count": null,
   "id": "77c0be2d",
   "metadata": {},
   "outputs": [],
   "source": [
    "rn = @reaction_network begin\n",
    "    @parameters k\n",
    "    @species a(t) b(t)\n",
    "        k, a → b\n",
    "end"
   ]
  },
  {
   "cell_type": "markdown",
   "id": "fe5aa1e2",
   "metadata": {},
   "source": [
    "#### 3.2.2 Reacciones reversibles"
   ]
  },
  {
   "cell_type": "code",
   "execution_count": null,
   "id": "8ea67584",
   "metadata": {},
   "outputs": [],
   "source": [
    "rn = @reaction_network begin\n",
    "    @parameters k₊ k₋\n",
    "    @species a(t) b(t)\n",
    "        k₊, a → b\n",
    "        k₋, b → a\n",
    "        # (k₊,k₋), a <--> b\n",
    "end"
   ]
  },
  {
   "cell_type": "markdown",
   "id": "555df168",
   "metadata": {},
   "source": [
    "### 3.4 Regimes dinámicos"
   ]
  },
  {
   "cell_type": "markdown",
   "id": "c3aefd9c",
   "metadata": {},
   "source": [
    "#### 3.4.0 La derivada\n",
    "\n",
    "$$\n",
    "y = mx + b\n",
    "$$\n",
    "\n",
    "$$\n",
    "m = \\frac{y_2 - y_1}{x_2 - x_1}\n",
    "$$\n",
    "\n",
    "$$\n",
    "y = f(x)\n",
    "$$\n",
    "\n",
    "$$\n",
    "m(x,\\Delta x) = \\frac{f(x + \\Delta x) - f(x)}{(x + \\Delta x) - x}\n",
    "$$\n",
    "\n",
    "$$\n",
    "\\frac{df(x)}{dx} = \\lim_{\\Delta x \\to 0} \\frac{f(x + \\Delta x) - f(x)}{\\Delta x}\n",
    "$$"
   ]
  },
  {
   "cell_type": "markdown",
   "id": "fea135c9",
   "metadata": {},
   "source": [
    "#### 3.4.0 Equilibrio\n",
    "\n",
    "$$\n",
    "\\frac{df(x)}{dx} = 0\n",
    "$$\n",
    "\n",
    "$$\n",
    "f(x) = m x + b\n",
    "$$\n",
    "\n",
    "Derivada, integral\n",
    "\n",
    "$$\n",
    "\\frac{df(x)}{dx} = m\n",
    "$$\n",
    "\n",
    "$$\n",
    "\\frac{df(x)}{dx} \\neq m\n",
    "$$\n",
    "\n",
    "$$\n",
    "\\frac{df(x)}{dx} = a_1 x + a_2\n",
    "$$\n",
    "\n",
    "\\begin{align}\n",
    "\\frac{df(x)}{dx} & = 0 \\\\\n",
    "0 & = a_1 x + a_2 \\\\\n",
    "x & = \\frac{a_2}{a_1}\n",
    "\\end{align}"
   ]
  },
  {
   "cell_type": "markdown",
   "id": "ad388925",
   "metadata": {},
   "source": [
    "#### 3.4.1 Regímenes dinámicos"
   ]
  },
  {
   "cell_type": "markdown",
   "id": "5fff436b",
   "metadata": {},
   "source": [
    "#### 3.4.1 Equilibrio (estacionario)"
   ]
  },
  {
   "cell_type": "code",
   "execution_count": null,
   "id": "b639ec4d",
   "metadata": {},
   "outputs": [],
   "source": [
    "rn = @reaction_network begin\n",
    "    @parameters k\n",
    "    @species a(t) b(t)\n",
    "        k, a → b\n",
    "end"
   ]
  },
  {
   "cell_type": "code",
   "execution_count": null,
   "id": "d5e46afd",
   "metadata": {},
   "outputs": [],
   "source": [
    "ode_eq = convert(ODESystem, rn)\n",
    "# ode_eq = structural_simplify(ode_eq)\n",
    "latexify(ode_eq)"
   ]
  },
  {
   "cell_type": "code",
   "execution_count": null,
   "id": "88288cbb",
   "metadata": {},
   "outputs": [],
   "source": [
    "# Condiciones iniciales y parámetros\n",
    "u₀ = [100, 0];\n",
    "p = [2];\n",
    "\n",
    "# Tiempo de simulación y número de replicas estocásticas\n",
    "tspan = (0, 10);"
   ]
  },
  {
   "cell_type": "code",
   "execution_count": null,
   "id": "ba1b4f9a",
   "metadata": {},
   "outputs": [],
   "source": [
    "# Simulate ODE\n",
    "ode = ODEProblem(rn, u₀, tspan, p);\n",
    "sol_ode = solve(ode, Tsit5(), saveat=0.1);"
   ]
  },
  {
   "cell_type": "code",
   "execution_count": null,
   "id": "604a02a5",
   "metadata": {},
   "outputs": [],
   "source": [
    "plot(sol_ode, idxs=[1,2], lw=2, plot_title=\"dinámica\")"
   ]
  },
  {
   "cell_type": "markdown",
   "id": "86c50fd0",
   "metadata": {},
   "source": [
    "#### 3.4.2 Equilibrio (dinámico)"
   ]
  },
  {
   "cell_type": "code",
   "execution_count": null,
   "id": "03275a7f",
   "metadata": {},
   "outputs": [],
   "source": [
    "rn = @reaction_network begin\n",
    "    @parameters k₊ k₋\n",
    "    @species a(t) b(t)\n",
    "        k₊, a → b\n",
    "        k₋, b → a\n",
    "        # (k₊,k₋), a <--> b\n",
    "end"
   ]
  },
  {
   "cell_type": "code",
   "execution_count": null,
   "id": "af3a38e9",
   "metadata": {},
   "outputs": [],
   "source": [
    "ode_eq = convert(ODESystem, rn)\n",
    "# ode_eq = structural_simplify(ode_eq)\n",
    "latexify(ode_eq)"
   ]
  },
  {
   "cell_type": "code",
   "execution_count": null,
   "id": "3b30d0c7",
   "metadata": {},
   "outputs": [],
   "source": [
    "# Condiciones iniciales y parámetros\n",
    "u₀ = [100, 0];\n",
    "p = [2, 1];\n",
    "\n",
    "# Tiempo de simulación y número de replicas estocásticas\n",
    "tspan = (0, 10);"
   ]
  },
  {
   "cell_type": "code",
   "execution_count": null,
   "id": "469626b8",
   "metadata": {},
   "outputs": [],
   "source": [
    "# Simulate ODE\n",
    "ode = ODEProblem(rn, u₀, tspan, p);\n",
    "sol_ode = solve(ode, Tsit5(), saveat=0.1);"
   ]
  },
  {
   "cell_type": "code",
   "execution_count": null,
   "id": "c51f7429",
   "metadata": {},
   "outputs": [],
   "source": [
    "plot(sol_ode, idxs=[1,2], lw=2, plot_title=\"dinámica\")"
   ]
  },
  {
   "cell_type": "code",
   "execution_count": null,
   "id": "ff28fb40",
   "metadata": {},
   "outputs": [],
   "source": [
    "plot(sol_ode, vars = (1, 2), lw=2, plot_title=\"diagrama de fases\")"
   ]
  },
  {
   "cell_type": "markdown",
   "id": "8626ecd8",
   "metadata": {},
   "source": [
    "#### 3.4.3 Oscilaciones"
   ]
  },
  {
   "cell_type": "code",
   "execution_count": null,
   "id": "b2d10f92",
   "metadata": {},
   "outputs": [],
   "source": [
    "rn = @reaction_network begin\n",
    "    @parameters α β γ\n",
    "    @species n1(t) n2(t)\n",
    "        α, n1 → 2n1\n",
    "        β, n1 + n2 → 2n2\n",
    "        γ, n2 → 0\n",
    "end"
   ]
  },
  {
   "cell_type": "code",
   "execution_count": null,
   "id": "1e9c49b3",
   "metadata": {},
   "outputs": [],
   "source": [
    "ode_eq = convert(ODESystem, rn)\n",
    "# ode_eq = structural_simplify(ode_eq)\n",
    "latexify(ode_eq)"
   ]
  },
  {
   "cell_type": "code",
   "execution_count": null,
   "id": "1b852549",
   "metadata": {},
   "outputs": [],
   "source": [
    "# Condiciones iniciales y parámetros\n",
    "u₀ = [0.9, 0.9];\n",
    "p = [2/3, 4/3, 1];\n",
    "\n",
    "# Tiempo de simulación y número de replicas estocásticas\n",
    "tspan = (0, 100);\n",
    "n_trajectories = 1;"
   ]
  },
  {
   "cell_type": "code",
   "execution_count": null,
   "id": "49cf837b",
   "metadata": {},
   "outputs": [],
   "source": [
    "# Simulate ODE\n",
    "ode = ODEProblem(rn, u₀, tspan, p);\n",
    "sol_ode = solve(ode, Tsit5(), saveat=0.1);"
   ]
  },
  {
   "cell_type": "code",
   "execution_count": null,
   "id": "65597606",
   "metadata": {},
   "outputs": [],
   "source": [
    "plot(sol_ode, idxs=[1,2], lw=2, plot_title=\"dinámica\")"
   ]
  },
  {
   "cell_type": "code",
   "execution_count": null,
   "id": "dfbf4230",
   "metadata": {},
   "outputs": [],
   "source": [
    "plot(sol_ode, vars = (1, 2), lw=1, plot_title=\"diagrama de fases\")"
   ]
  },
  {
   "cell_type": "markdown",
   "id": "7d3d96ee",
   "metadata": {},
   "source": [
    "#### 3.4.4 Caos "
   ]
  },
  {
   "cell_type": "code",
   "execution_count": null,
   "id": "b4e63dac",
   "metadata": {},
   "outputs": [],
   "source": [
    "rn = @reaction_network begin\n",
    "    @parameters r1 r2 r3 r4 a11 a12 a13 a14 a21 a22 a23 a24 a31 a32 a33 a34 a41 a42 a43 a44\n",
    "    @species n1(t) n2(t) n3(t) n4(t)\n",
    "        r1, n1 → 2n1\n",
    "        r2, n2 → 2n2\n",
    "        r3, n3 → 2n3\n",
    "        r4, n4 → 2n4\n",
    "        r1*(a11*n1 + a12*n2 + a13*n3 + a14*n4), n1 → 0\n",
    "        r2*(a21*n1 + a22*n2 + a23*n3 + a24*n4), n2 → 0\n",
    "        r3*(a31*n1 + a32*n2 + a33*n3 + a34*n4), n3 → 0\n",
    "        r4*(a41*n1 + a42*n2 + a43*n3 + a44*n4), n4 → 0\n",
    "end"
   ]
  },
  {
   "cell_type": "code",
   "execution_count": null,
   "id": "7b35dcbb",
   "metadata": {},
   "outputs": [],
   "source": [
    "ode_eq = convert(ODESystem, rn)\n",
    "# ode_eq = structural_simplify(ode_eq)\n",
    "latexify(ode_eq)\n"
   ]
  },
  {
   "cell_type": "code",
   "execution_count": null,
   "id": "e0486400",
   "metadata": {},
   "outputs": [],
   "source": [
    "# Condiciones iniciales y parámetros\n",
    "u₀ = [100,100,100,100];\n",
    "p = 0.001*[1.0, 0.72, 1.53, 1.27, 1.0, 1.09, 1.52, 0.0, 0.0, 1.0, 0.44, 1.36, 2.33, 0.0, 1.0, 0.47, 1.21, 0.51, 0.35, 1.0];\n",
    "\n",
    "# Tiempo de simulación y número de replicas estocásticas\n",
    "tspan = (0, 1000000);\n",
    "n_trajectories = 1;"
   ]
  },
  {
   "cell_type": "code",
   "execution_count": null,
   "id": "66247b5e",
   "metadata": {},
   "outputs": [],
   "source": [
    "# Simulate ODE\n",
    "ode = ODEProblem(rn, u₀, tspan, p);\n",
    "sol_ode = solve(ode, Tsit5(), saveat=1);"
   ]
  },
  {
   "cell_type": "code",
   "execution_count": null,
   "id": "120b6832",
   "metadata": {},
   "outputs": [],
   "source": [
    "plot(sol_ode, idxs=[1,2,3,4], lw=2, plot_title=\"dinámica\")"
   ]
  },
  {
   "cell_type": "code",
   "execution_count": null,
   "id": "940cd88a",
   "metadata": {},
   "outputs": [],
   "source": [
    "plot(sol_ode, vars = (1, 2), lw=1, plot_title=\"diagrama de fases\")"
   ]
  },
  {
   "cell_type": "markdown",
   "id": "2d2d8ba8",
   "metadata": {},
   "source": [
    "### 4.0 Determinismo, estocasticidad y probabilidades"
   ]
  },
  {
   "cell_type": "markdown",
   "id": "f37f192b",
   "metadata": {},
   "source": [
    "### La ecuación de Michaelis-Menten"
   ]
  },
  {
   "cell_type": "code",
   "execution_count": null,
   "id": "5880dffc",
   "metadata": {},
   "outputs": [],
   "source": [
    "rn = @reaction_network begin\n",
    "    @parameters k₊ k₋ kₚ\n",
    "    @species e(t) s(t) es(t) p(t)\n",
    "        k₊, e + 3*s → es\n",
    "        k₋, es → e + s\n",
    "        kₚ, es → e + p\n",
    "end"
   ]
  },
  {
   "cell_type": "code",
   "execution_count": null,
   "id": "72027c1e",
   "metadata": {},
   "outputs": [],
   "source": [
    "# Condiciones iniciales y parámetros\n",
    "u₀ = [1., 1000., 0., 0.];\n",
    "p = [6/3, 2/3, 1.];\n",
    "\n",
    "# Tiempo de simulación y número de replicas estocásticas\n",
    "tspan = (0., 2000.);\n",
    "n_trajectories = 1;"
   ]
  },
  {
   "cell_type": "code",
   "execution_count": null,
   "id": "d12d384a",
   "metadata": {},
   "outputs": [],
   "source": [
    "ode_eq = convert(ODESystem, rn)\n",
    "# ode_eq = structural_simplify(ode_eq)\n",
    "latexify(ode_eq)\n"
   ]
  },
  {
   "cell_type": "code",
   "execution_count": null,
   "id": "51d3a9a6",
   "metadata": {},
   "outputs": [],
   "source": [
    "# Simulate ODE\n",
    "ode = ODEProblem(rn, u₀, tspan, p);\n",
    "sol_ode = solve(ode, Tsit5(), saveat=0.1);\n",
    "\n",
    "# # Simulate SDE\n",
    "# sde = SDEProblem(rn, u₀, tspan, p);\n",
    "# sol_sde = solve(sde, EM(); dt = 0.05);\n",
    "\n",
    "# # Simulate SSA\n",
    "# ssa_input = JumpInputs(rn, u₀, tspan, p);\n",
    "# ssa = JumpProblem(ssa_input);\n",
    "# sol_ssa = solve(ssa);\n"
   ]
  },
  {
   "cell_type": "code",
   "execution_count": null,
   "id": "4e94477f",
   "metadata": {},
   "outputs": [],
   "source": [
    "plot(sol_ode, idxs=[1,2], lw=1, plot_title=\"dinámica\");#, labels=\"μ₂(t):smip\"\n",
    "# savefig(\"\")"
   ]
  },
  {
   "cell_type": "code",
   "execution_count": null,
   "id": "208ef75d",
   "metadata": {},
   "outputs": [],
   "source": [
    "# Simulate SSAs\n",
    "jsys = convert(JumpSystem, rn, combinatoric_ratelaws=false);\n",
    "dprob = DiscreteProblem(jsys, u₀, tspan, p);\n",
    "jprob = JumpProblem(jsys, dprob, Direct(), save_positions=(false, false));\n",
    "ensembleprob = EnsembleProblem(jprob);\n",
    "@time sol_ssa = solve(ensembleprob, SSAStepper(), trajectories=n_trajectories, saveat=0.1);"
   ]
  },
  {
   "cell_type": "markdown",
   "id": "8d35ef18",
   "metadata": {},
   "source": [
    "### *Actividad*. Modelando un mecanismo enzimático"
   ]
  },
  {
   "cell_type": "code",
   "execution_count": null,
   "id": "b46ae91a",
   "metadata": {},
   "outputs": [],
   "source": [
    "# Introduce tu código aquí"
   ]
  }
 ],
 "metadata": {
  "kernelspec": {
   "display_name": "Julia 1.11.5",
   "language": "julia",
   "name": "julia-1.11"
  },
  "language_info": {
   "file_extension": ".jl",
   "mimetype": "application/julia",
   "name": "julia",
   "version": "1.11.5"
  }
 },
 "nbformat": 4,
 "nbformat_minor": 5
}
